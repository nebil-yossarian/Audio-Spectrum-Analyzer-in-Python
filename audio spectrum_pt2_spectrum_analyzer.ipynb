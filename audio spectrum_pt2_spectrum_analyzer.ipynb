{
 "cells": [
  {
   "cell_type": "code",
   "execution_count": 2,
   "metadata": {
    "collapsed": true
   },
   "outputs": [],
   "source": [
    "\"\"\"\n",
    "Notebook for streaming data from a microphone in realtime\n",
    "\n",
    "audio is captured using pyaudio\n",
    "then converted from binary data to ints using struct\n",
    "then displayed using matplotlib\n",
    "\n",
    "scipy.fftpack computes the FFT\n",
    "\n",
    "if you don't have pyaudio, then run\n",
    "\n",
    ">>> pip install pyaudio\n",
    "\n",
    "note: with 2048 samples per chunk, I'm getting 20FPS\n",
    "when also running the spectrum, its about 15FPS\n",
    "\"\"\"\n",
    "\n",
    "import pyaudio\n",
    "import os\n",
    "import struct\n",
    "import numpy as np\n",
    "import matplotlib.pyplot as plt\n",
    "from scipy.fftpack import fft\n",
    "import time\n",
    "from tkinter import TclError\n",
    "from scipy.signal import lfilter, hamming\n",
    "import librosa as lb\n",
    "\n",
    "# to display in separate Tk window\n",
    "%matplotlib tk\n",
    "\n",
    "# constants\n",
    "CHUNK = 1024 * 2             # samples per frame\n",
    "FORMAT = pyaudio.paInt16     # audio format (bytes per sample?)\n",
    "CHANNELS = 1                 # single channel for microphone\n",
    "RATE = 44100                 # samples per second\n",
    "\n",
    "\n",
    "# def get_formants(data):\n",
    "#     N = len(data)\n",
    "#     w = np.hamming(N)\n",
    "\n",
    "#     # x1 = data * w\n",
    "#     x1 = lfilter([1], [1., 0.63],  w * data)\n",
    "\n",
    "#     A = lb.lpc(x1, 8)\n",
    "#     print(A)\n",
    "#     return A\n"
   ]
  },
  {
   "cell_type": "code",
   "execution_count": 3,
   "metadata": {
    "scrolled": false
   },
   "outputs": [
    {
     "name": "stdout",
     "output_type": "stream",
     "text": [
      "stream started\n"
     ]
    },
    {
     "ename": "UFuncTypeError",
     "evalue": "ufunc 'multiply' did not contain a loop with signature matching types (dtype('float64'), dtype('S4096')) -> None",
     "output_type": "error",
     "traceback": [
      "\u001b[1;31m---------------------------------------------------------------------------\u001b[0m",
      "\u001b[1;31mUFuncTypeError\u001b[0m                            Traceback (most recent call last)",
      "\u001b[1;32mc:\\Users\\nebilibrahim\\Documents\\Python Scripts\\Audio-Spectrum-Analyzer-in-Python\\audio spectrum_pt2_spectrum_analyzer.ipynb Cell 2'\u001b[0m in \u001b[0;36m<cell line: 47>\u001b[1;34m()\u001b[0m\n\u001b[0;32m     <a href='vscode-notebook-cell:/c%3A/Users/nebilibrahim/Documents/Python%20Scripts/Audio-Spectrum-Analyzer-in-Python/audio%20spectrum_pt2_spectrum_analyzer.ipynb#ch0000001?line=51'>52</a>\u001b[0m \u001b[39m# create np array and offset by 128\u001b[39;00m\n\u001b[0;32m     <a href='vscode-notebook-cell:/c%3A/Users/nebilibrahim/Documents/Python%20Scripts/Audio-Spectrum-Analyzer-in-Python/audio%20spectrum_pt2_spectrum_analyzer.ipynb#ch0000001?line=52'>53</a>\u001b[0m data_np \u001b[39m=\u001b[39m np\u001b[39m.\u001b[39marray(data_int, dtype\u001b[39m=\u001b[39m\u001b[39m'\u001b[39m\u001b[39mb\u001b[39m\u001b[39m'\u001b[39m)[::\u001b[39m2\u001b[39m] \u001b[39m+\u001b[39m \u001b[39m128\u001b[39m\n\u001b[1;32m---> <a href='vscode-notebook-cell:/c%3A/Users/nebilibrahim/Documents/Python%20Scripts/Audio-Spectrum-Analyzer-in-Python/audio%20spectrum_pt2_spectrum_analyzer.ipynb#ch0000001?line=53'>54</a>\u001b[0m get_formants(data)\n\u001b[0;32m     <a href='vscode-notebook-cell:/c%3A/Users/nebilibrahim/Documents/Python%20Scripts/Audio-Spectrum-Analyzer-in-Python/audio%20spectrum_pt2_spectrum_analyzer.ipynb#ch0000001?line=54'>55</a>\u001b[0m \u001b[39mbreak\u001b[39;00m\n\u001b[0;32m     <a href='vscode-notebook-cell:/c%3A/Users/nebilibrahim/Documents/Python%20Scripts/Audio-Spectrum-Analyzer-in-Python/audio%20spectrum_pt2_spectrum_analyzer.ipynb#ch0000001?line=55'>56</a>\u001b[0m line\u001b[39m.\u001b[39mset_ydata(data_np)\n",
      "\u001b[1;32mc:\\Users\\nebilibrahim\\Documents\\Python Scripts\\Audio-Spectrum-Analyzer-in-Python\\audio spectrum_pt2_spectrum_analyzer.ipynb Cell 1'\u001b[0m in \u001b[0;36mget_formants\u001b[1;34m(data)\u001b[0m\n\u001b[0;32m     <a href='vscode-notebook-cell:/c%3A/Users/nebilibrahim/Documents/Python%20Scripts/Audio-Spectrum-Analyzer-in-Python/audio%20spectrum_pt2_spectrum_analyzer.ipynb#ch0000000?line=40'>41</a>\u001b[0m w \u001b[39m=\u001b[39m np\u001b[39m.\u001b[39mhamming(N)\n\u001b[0;32m     <a href='vscode-notebook-cell:/c%3A/Users/nebilibrahim/Documents/Python%20Scripts/Audio-Spectrum-Analyzer-in-Python/audio%20spectrum_pt2_spectrum_analyzer.ipynb#ch0000000?line=42'>43</a>\u001b[0m \u001b[39m# x1 = data * w\u001b[39;00m\n\u001b[1;32m---> <a href='vscode-notebook-cell:/c%3A/Users/nebilibrahim/Documents/Python%20Scripts/Audio-Spectrum-Analyzer-in-Python/audio%20spectrum_pt2_spectrum_analyzer.ipynb#ch0000000?line=43'>44</a>\u001b[0m x1 \u001b[39m=\u001b[39m lfilter([\u001b[39m1\u001b[39m], [\u001b[39m1.\u001b[39m, \u001b[39m0.63\u001b[39m],  w \u001b[39m*\u001b[39;49m data)\n\u001b[0;32m     <a href='vscode-notebook-cell:/c%3A/Users/nebilibrahim/Documents/Python%20Scripts/Audio-Spectrum-Analyzer-in-Python/audio%20spectrum_pt2_spectrum_analyzer.ipynb#ch0000000?line=45'>46</a>\u001b[0m A \u001b[39m=\u001b[39m lb\u001b[39m.\u001b[39mlpc(x1, \u001b[39m8\u001b[39m)\n\u001b[0;32m     <a href='vscode-notebook-cell:/c%3A/Users/nebilibrahim/Documents/Python%20Scripts/Audio-Spectrum-Analyzer-in-Python/audio%20spectrum_pt2_spectrum_analyzer.ipynb#ch0000000?line=46'>47</a>\u001b[0m \u001b[39mprint\u001b[39m(A)\n",
      "\u001b[1;31mUFuncTypeError\u001b[0m: ufunc 'multiply' did not contain a loop with signature matching types (dtype('float64'), dtype('S4096')) -> None"
     ]
    }
   ],
   "source": [
    "# create matplotlib figure and axes\n",
    "fig, (ax1, ax2) = plt.subplots(2, figsize=(15, 7))\n",
    "\n",
    "# pyaudio class instance\n",
    "p = pyaudio.PyAudio()\n",
    "\n",
    "# stream object to get data from microphone\n",
    "stream = p.open(\n",
    "    format=FORMAT,\n",
    "    channels=CHANNELS,\n",
    "    rate=RATE,\n",
    "    input=True,\n",
    "    output=True,\n",
    "    frames_per_buffer=CHUNK\n",
    ")\n",
    "\n",
    "# variable for plotting\n",
    "x = np.arange(0, 2 * CHUNK, 2)       # samples (waveform)\n",
    "xf = np.linspace(0, RATE, CHUNK)     # frequencies (spectrum)\n",
    "\n",
    "# create a line object with random data\n",
    "line, = ax1.plot(x, np.random.rand(CHUNK), '-', lw=2)\n",
    "\n",
    "# create semilogx line for spectrum\n",
    "line_fft, = ax2.semilogx(xf, np.random.rand(CHUNK), '-', lw=2)\n",
    "\n",
    "# format waveform axes\n",
    "ax1.set_title('AUDIO WAVEFORM')\n",
    "ax1.set_xlabel('samples')\n",
    "ax1.set_ylabel('volume')\n",
    "ax1.set_ylim(0, 255)\n",
    "ax1.set_xlim(0, 2 * CHUNK)\n",
    "plt.setp(ax1, xticks=[0, CHUNK, 2 * CHUNK], yticks=[0, 128, 255])\n",
    "\n",
    "# format spectrum axes\n",
    "ax2.set_xlim(20, RATE / 2)\n",
    "\n",
    "print('stream started')\n",
    "\n",
    "# for measuring frame rate\n",
    "frame_count = 0\n",
    "start_time = time.time()\n",
    "\n",
    "while True:\n",
    "    \n",
    "    # binary data\n",
    "    data = stream.read(CHUNK)  \n",
    "    \n",
    "    # convert data to integers, make np array, then offset it by 127\n",
    "    data_int = struct.unpack(str(2 * CHUNK) + 'B', data)\n",
    "    \n",
    "    # create np array and offset by 128\n",
    "    data_np = np.array(data_int, dtype='b')[::2] + 128\n",
    "    # get_formants(data)\n",
    "    # break\n",
    "    line.set_ydata(data_np)\n",
    "    \n",
    "    # compute FFT and update line\n",
    "    yf = fft(data_int)\n",
    "    line_fft.set_ydata(np.abs(yf[0:CHUNK])  / (128 * CHUNK))\n",
    "    \n",
    "    # update figure canvas\n",
    "    try:\n",
    "        fig.canvas.draw()\n",
    "        fig.canvas.flush_events()\n",
    "        frame_count += 1\n",
    "        \n",
    "    except TclError:\n",
    "        \n",
    "        # calculate average frame rate\n",
    "        frame_rate = frame_count / (time.time() - start_time)\n",
    "        \n",
    "        print('stream stopped')\n",
    "        print('average frame rate = {:.0f} FPS'.format(frame_rate))\n",
    "        break"
   ]
  },
  {
   "cell_type": "code",
   "execution_count": null,
   "metadata": {
    "collapsed": true
   },
   "outputs": [],
   "source": []
  }
 ],
 "metadata": {
  "anaconda-cloud": {},
  "interpreter": {
   "hash": "19915252557e3a691e0c08a38c40e1b7d4063201e5edf6e50bc1e64f2555f399"
  },
  "kernelspec": {
   "display_name": "Python 3.9.12 ('base')",
   "language": "python",
   "name": "python3"
  },
  "language_info": {
   "codemirror_mode": {
    "name": "ipython",
    "version": 3
   },
   "file_extension": ".py",
   "mimetype": "text/x-python",
   "name": "python",
   "nbconvert_exporter": "python",
   "pygments_lexer": "ipython3",
   "version": "3.9.12"
  }
 },
 "nbformat": 4,
 "nbformat_minor": 1
}
